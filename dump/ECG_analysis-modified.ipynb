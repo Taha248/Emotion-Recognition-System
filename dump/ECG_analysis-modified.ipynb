{
 "cells": [
  {
   "cell_type": "markdown",
   "metadata": {},
   "source": [
    "# ECG analysis project\n",
    "### Author: Marian Petruk\n"
   ]
  },
  {
   "cell_type": "markdown",
   "metadata": {},
   "source": [
    "### Import libraries, modules"
   ]
  },
  {
   "cell_type": "code",
   "execution_count": 1,
   "metadata": {},
   "outputs": [],
   "source": [
    "import numpy as np\n",
    "import matplotlib.pyplot as plt\n",
    "import matplotlib.image as mpimg\n",
    "import seaborn as sns\n",
    "import warnings\n",
    "import pandas as pd\n",
    "from scipy.signal import butter, sosfilt, sosfilt_zi, sosfiltfilt, lfilter, lfilter_zi, filtfilt, sosfreqz, resample\n",
    "from utils import hamilton_detector, christov_detector, findpeaks, engzee_detector\n",
    "from ecg_detectors.ecgdetectors import Detectors, MWA, panPeakDetect, searchBack\n",
    "import os\n",
    "import csv\n",
    "from numpy import genfromtxt\n",
    "import pyhrv.tools as tools\n",
    "from biosppy import utils\n",
    "import statistics \n",
    "\n"
   ]
  },
  {
   "cell_type": "markdown",
   "metadata": {},
   "source": [
    "### Load raw ECG signal"
   ]
  },
  {
   "cell_type": "code",
   "execution_count": 2,
   "metadata": {
    "scrolled": false
   },
   "outputs": [],
   "source": [
    "\n",
    "\n",
    "#SAMPLE_FILE='sample2-external';\n",
    "SAMPLE_FILE='sample1-default';\n",
    "\n",
    "temp=pd.read_csv(\"samples/\"+str(SAMPLE_FILE)+\".csv\")\n",
    "\n",
    "data=np.empty([len(temp)])\n",
    "for x in range(len(temp)):\n",
    "    data[x]=temp.values[x][0]\n"
   ]
  },
  {
   "cell_type": "markdown",
   "metadata": {},
   "source": [
    "### Plot raw ecg sample"
   ]
  },
  {
   "cell_type": "markdown",
   "metadata": {},
   "source": [
    "### Filter the data from noice"
   ]
  },
  {
   "cell_type": "markdown",
   "metadata": {},
   "source": [
    "#### **Butterworth Bandpass filter**"
   ]
  },
  {
   "cell_type": "code",
   "execution_count": 3,
   "metadata": {},
   "outputs": [],
   "source": [
    "def butter_bandpass(lowcut, highcut, fs, order=5):\n",
    "    nyq = 0.5 * fs\n",
    "    low = lowcut / nyq\n",
    "    high = highcut / nyq\n",
    "    sos = butter(order, [low, high], analog=False, btype=\"band\", output=\"sos\")\n",
    "    return sos\n",
    "\n",
    "\n",
    "def butter_bandpass_filter(data, lowcut, highcut, fs, order=5):\n",
    "    sos = butter_bandpass(lowcut, highcut, fs, order=order)\n",
    "    y = sosfilt(sos,\n",
    "                data)  # Filter data along one dimension using cascaded second-order sections. Using lfilter for each second-order section.\n",
    "    return y\n",
    "\n",
    "\n",
    "def butter_bandpass_filter_once(data, lowcut, highcut, fs, order=5):\n",
    "    sos = butter_bandpass(lowcut, highcut, fs, order=order)\n",
    "    # Apply the filter to data. Use lfilter_zi to choose the initial condition of the filter.\n",
    "    zi = sosfilt_zi(sos)\n",
    "    z, _ = sosfilt(sos, data, zi=zi * data[0])\n",
    "    return sos, z, zi\n",
    "\n",
    "\n",
    "def butter_bandpass_filter_again(sos, z, zi):\n",
    "    # Apply the filter again, to have a result filtered at an order the same as filtfilt.\n",
    "    z2, _ = sosfilt(sos, z, zi=zi * z[0])\n",
    "    return z2\n",
    "\n",
    "\n",
    "def butter_bandpass_forward_backward_filter(data, lowcut, highcut, fs, order=5):\n",
    "    sos = butter_bandpass(lowcut, highcut, fs, order=order)\n",
    "    y = sosfiltfilt(sos,\n",
    "                    data)  # Apply a digital filter forward and backward to a signal.This function applies a linear digital filter twice, once forward and once backwards. The combined filter has zero phase and a filter order twice that of the original.\n",
    "    return y"
   ]
  },
  {
   "cell_type": "markdown",
   "metadata": {},
   "source": [
    "As we can see, it is better to use `scipy.signal.sosfiltfilt` instead of `sosfilt` to apply the Butterworth filter. `sosfiltfilt` is the forward-backward filter. It applies the filter twice, once forward and once backward, resulting in zero phase delay."
   ]
  },
  {
   "cell_type": "markdown",
   "metadata": {},
   "source": [
    "#### Illustration of a phase delay/shift"
   ]
  },
  {
   "cell_type": "markdown",
   "metadata": {},
   "source": [
    "Phase shift is any change that occurs in the phase of one quantity, or in the phase difference between two or more quantities. (c) Wikipedia \n",
    "<img width=\"300px\" src=\"images/Phase_shift.png\" alt=\"illustration of phase shift from wikipedia\">"
   ]
  },
  {
   "cell_type": "markdown",
   "metadata": {},
   "source": [
    "We can see phase delay on filtered singal using `sosfilt` without initial conditions and on both stages of `sosfilt` with initial conditions (`sosfilt_zi`). However, `sosfiltfilt` - a forward-backward digital filter has **zero phase delay/shift**."
   ]
  },
  {
   "cell_type": "markdown",
   "metadata": {},
   "source": [
    "## QRS"
   ]
  },
  {
   "cell_type": "markdown",
   "metadata": {},
   "source": [
    "QRS detection is difficult, not only because of the physiological variability of the QRS complexes, but also because of the various types of noise that can be present in the ECG signal. Noise sources include muscle noise, artifacts due to electrode motion, power-line interference, baseline wander and T waves with high frequency characteristics similar to QRS complexes."
   ]
  },
  {
   "cell_type": "markdown",
   "metadata": {},
   "source": [
    "### Detect R-peaks"
   ]
  },
  {
   "cell_type": "markdown",
   "metadata": {},
   "source": [
    "#### Main detector that is used is pan-tompkins"
   ]
  },
  {
   "cell_type": "code",
   "execution_count": 4,
   "metadata": {},
   "outputs": [],
   "source": [
    "def pan_tompkins_detector(raw_ecg, mwa, fs, N):\n",
    "   \n",
    "#     N = int(0.12 * fs)\n",
    "#     mwa = MWA(squared, N)\n",
    "#     mwa[:int(0.2 * fs)] = 0\n",
    "\n",
    "    N = int(N / 100 * fs)\n",
    "    mwa_peaks = panPeakDetect(mwa, fs)\n",
    "\n",
    "    r_peaks = searchBack(mwa_peaks, raw_ecg, N)\n",
    "\n",
    "    return r_peaks\n"
   ]
  },
  {
   "cell_type": "code",
   "execution_count": 5,
   "metadata": {},
   "outputs": [
    {
     "ename": "NameError",
     "evalue": "name 'y' is not defined",
     "output_type": "error",
     "traceback": [
      "\u001b[1;31m---------------------------------------------------------------------------\u001b[0m",
      "\u001b[1;31mNameError\u001b[0m                                 Traceback (most recent call last)",
      "\u001b[1;32m<ipython-input-5-c6268dcf1acc>\u001b[0m in \u001b[0;36m<module>\u001b[1;34m\u001b[0m\n\u001b[0;32m      1\u001b[0m \u001b[1;31m# Derivative - provides QRS slope information.\u001b[0m\u001b[1;33m\u001b[0m\u001b[1;33m\u001b[0m\u001b[1;33m\u001b[0m\u001b[0m\n\u001b[1;32m----> 2\u001b[1;33m \u001b[0mdifferentiated_ecg_measurements\u001b[0m \u001b[1;33m=\u001b[0m \u001b[0mnp\u001b[0m\u001b[1;33m.\u001b[0m\u001b[0mediff1d\u001b[0m\u001b[1;33m(\u001b[0m\u001b[0my\u001b[0m\u001b[1;33m)\u001b[0m\u001b[1;33m\u001b[0m\u001b[1;33m\u001b[0m\u001b[0m\n\u001b[0m\u001b[0;32m      3\u001b[0m \u001b[1;33m\u001b[0m\u001b[0m\n\u001b[0;32m      4\u001b[0m \u001b[1;31m# Squaring - intensifies values received in derivative.\u001b[0m\u001b[1;33m\u001b[0m\u001b[1;33m\u001b[0m\u001b[1;33m\u001b[0m\u001b[0m\n\u001b[0;32m      5\u001b[0m \u001b[1;31m# This helps restrict false positives caused by T waves with higher than usual spectral energies..\u001b[0m\u001b[1;33m\u001b[0m\u001b[1;33m\u001b[0m\u001b[1;33m\u001b[0m\u001b[0m\n",
      "\u001b[1;31mNameError\u001b[0m: name 'y' is not defined"
     ]
    }
   ],
   "source": [
    "# Derivative - provides QRS slope information.\n",
    "differentiated_ecg_measurements = np.ediff1d(y)\n",
    "\n",
    "# Squaring - intensifies values received in derivative. \n",
    "# This helps restrict false positives caused by T waves with higher than usual spectral energies..\n",
    "squared_ecg_measurements = differentiated_ecg_measurements ** 2\n",
    "\n",
    "# Moving-window integration.\n",
    "integration_window = 50  # Change proportionally when adjusting frequency (in samples)\n",
    "integrated_ecg_measurements = np.convolve(squared_ecg_measurements, np.ones(integration_window))\n",
    "\n",
    "# Fiducial mark - peak detection on integrated measurements.\n",
    "rpeaks = pan_tompkins_detector(data, integrated_ecg_measurements, fs, integration_window)\n",
    "print(rpeaks)\n",
    "\n"
   ]
  },
  {
   "cell_type": "markdown",
   "metadata": {},
   "source": [
    "### RR-intervals (aka NN-intervals)"
   ]
  },
  {
   "cell_type": "markdown",
   "metadata": {},
   "source": [
    "The term **`NN`** is used in place of **RR** to emphasize the fact that the processed beats are \"normal\" beats. (с) Wikipedia"
   ]
  },
  {
   "cell_type": "markdown",
   "metadata": {},
   "source": [
    "Heart rate variability (HRV) is the physiological phenomenon of variation in the time interval between heartbeats. It is measured by the variation in the beat-to-beat interval."
   ]
  },
  {
   "cell_type": "code",
   "execution_count": null,
   "metadata": {},
   "outputs": [],
   "source": [
    "rr = np.diff(rpeaks) / fs * 1000  # in miliseconds\n",
    "hr = 60 * 1000 / rr\n",
    "print(\"rr =\", rr)\n",
    "print(\"hr =\", hr)\n",
    "rr"
   ]
  },
  {
   "cell_type": "markdown",
   "metadata": {},
   "source": [
    "### HRV features\n",
    "#### Time-domain methods"
   ]
  },
  {
   "cell_type": "code",
   "execution_count": null,
   "metadata": {},
   "outputs": [],
   "source": [
    "\n",
    "def timeDomain(NN):\n",
    "    \n",
    "    L = len(NN)    \n",
    "    ANN = np.mean(NN)\n",
    "    SDNN = np.std(NN)\n",
    "    SDSD = np.std(np.diff(NN))    \n",
    "    NN50 = len(np.where(np.diff(NN) > 0.05)[0])    \n",
    "    pNN50 = NN50/L    \n",
    "    NN20 = len(np.where(np.diff(NN) > 0.02)[0])\n",
    "    pNN20 = NN20/L\n",
    "    rMSSD = np.sqrt((1/L) * sum(np.diff(NN) ** 2))        \n",
    "    MedianNN = np.median(NN)\n",
    "    SDANN = sdann(rr)['sdann']\n",
    "    SDNN_INDEX=sdnn_index(rr)['sdnn_index']\n",
    "    RRI_MEAN=RRI_Mean(rr)['rri_mean']\n",
    "    \n",
    "    timeDomainFeats = {\n",
    "        \"ANN\": ANN, \"SDNN\": SDNN,\n",
    "        \"SDSD\": SDSD, \"NN50\": NN50,\n",
    "                       \"SDANN\":SDANN , \n",
    "                        \"SDNN_INDEX\": SDNN_INDEX,\n",
    "                       \"RRI_Mean\": RRI_MEAN,\n",
    "                       \"pNN50\": pNN50, \"NN20\": NN20,\n",
    "                       \"pNN20\": pNN20, \"rMSSD\": rMSSD,\n",
    "                       \"MedianNN\":MedianNN}\n",
    "                       \n",
    "    return timeDomainFeats\n",
    "\n",
    "\n",
    "def sdnn_index(nni=None, rpeaks=None, full=True, overlap=False, duration=300):\n",
    "\n",
    "    # Check input\n",
    "    nn = tools.check_input(nni, rpeaks)\n",
    "\n",
    "    # Signal segmentation into 5 min segments\n",
    "    segments, seg = tools.segmentation(nn,  full=full, overlap=overlap, duration=duration)\n",
    "\n",
    "    if seg:\n",
    "        sdnn_values = [sdnn(x)['sdnn'] for x in segments]\n",
    "        sdnn_index = np.mean(sdnn_values)\n",
    "    else:\n",
    "        sdnn_index = float('nan')\n",
    "        if tools.WARN:\n",
    "            warnings.warn(\"Signal duration too short for SDNN index computation.\")\n",
    "\n",
    "    # Output\n",
    "    args = [sdnn_index]\n",
    "    names = ['sdnn_index']\n",
    "    return utils.ReturnTuple(args, names)\n",
    "\n",
    "\n",
    "def sdann(nni=None, rpeaks=None, full=True, overlap=False, duration=300):\n",
    "\n",
    "    # Check input\n",
    "    nn = tools.check_input(nni, rpeaks)\n",
    "\n",
    "    # Signal segmentation into 5 min segments\n",
    "    segments, seg = tools.segmentation(nn, full=full, overlap=overlap, duration=duration)\n",
    "\n",
    "    if seg:\n",
    "        mean_values = [np.mean(x) for x in segments]\n",
    "        sdann_ = tools.std(mean_values)\n",
    "    else:\n",
    "        sdann_ = float('nan')\n",
    "        if tools.WARN:\n",
    "            warnings.warn(\"Signal duration too short for SDANN computation.\")\n",
    "\n",
    "    # Output\n",
    "    args = [sdann_]\n",
    "    names = ['sdann']\n",
    "    return utils.ReturnTuple(args, names)\n",
    "\n",
    "\n",
    "def RRI_Mean(nni=None, rpeaks=None, full=True, overlap=False, duration=300):\n",
    "\n",
    "    # Check input\n",
    "    nn = tools.check_input(nni, rpeaks)\n",
    "    \n",
    "    # Signal segmentation into 5 min segments\n",
    "    segments, seg = tools.segmentation(nn, full=full, overlap=overlap, duration=duration)\n",
    "    if seg:\n",
    "        rri_mean_ = statistics.mean([np.mean(x) for x in segments])\n",
    "\n",
    "    else:\n",
    "        rri_mean_ = float('nan')\n",
    "        if tools.WARN:\n",
    "            warnings.warn(\"Signal duration too short for RRI Mean computation.\")\n",
    "\n",
    "    # Output\n",
    "    args = [rri_mean_]\n",
    "    names = ['rri_mean']\n",
    "    return utils.ReturnTuple(args, names)"
   ]
  },
  {
   "cell_type": "code",
   "execution_count": null,
   "metadata": {},
   "outputs": [],
   "source": [
    "\n",
    "result = timeDomain(rr)\n",
    "timeDomain(rr)\n",
    "\n",
    "resultJSON=(str(result).replace(\"'\",'\"')).replace('nan','\"nan\"')\n",
    "\n",
    "f = open(\"samples/\"+SAMPLE_FILE+\"-result.json\", \"w\")\n",
    "print(resultJSON)\n",
    "f.write(resultJSON)\n",
    "f.close()"
   ]
  },
  {
   "cell_type": "code",
   "execution_count": null,
   "metadata": {},
   "outputs": [],
   "source": []
  },
  {
   "cell_type": "code",
   "execution_count": null,
   "metadata": {},
   "outputs": [],
   "source": []
  }
 ],
 "metadata": {
  "kernelspec": {
   "display_name": "Python 3",
   "language": "python",
   "name": "python3"
  },
  "language_info": {
   "codemirror_mode": {
    "name": "ipython",
    "version": 3
   },
   "file_extension": ".py",
   "mimetype": "text/x-python",
   "name": "python",
   "nbconvert_exporter": "python",
   "pygments_lexer": "ipython3",
   "version": "3.7.3"
  }
 },
 "nbformat": 4,
 "nbformat_minor": 2
}
